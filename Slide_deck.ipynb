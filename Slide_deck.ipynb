{
 "cells": [
  {
   "cell_type": "markdown",
   "metadata": {
    "slideshow": {
     "slide_type": "slide"
    }
   },
   "source": [
    "# Ford GoBike System Data Analysis\n",
    "## by Abdallah Badran"
   ]
  },
  {
   "cell_type": "markdown",
   "metadata": {
    "slideshow": {
     "slide_type": "slide"
    }
   },
   "source": [
    "## Investigation Overview\n",
    "\n",
    "> In this analysis we investigate several factors that may affect a biker trip duration and other insights in common with most of the trips \n",
    "\n",
    "## Dataset Overview\n",
    "\n",
    "> The dataset consists of 183412 members of Ford GoBike system with 19 fetaures after perfoming some feature engineering and data wrangling. The attributes include the trip duration, age, start and end stations, gender and others "
   ]
  },
  {
   "cell_type": "code",
   "execution_count": 1,
   "metadata": {
    "slideshow": {
     "slide_type": "skip"
    }
   },
   "outputs": [],
   "source": [
    "# import all packages and set plots to be embedded inline\n",
    "import numpy as np\n",
    "import pandas as pd\n",
    "import matplotlib.pyplot as plt\n",
    "import seaborn as sb\n",
    "\n",
    "%matplotlib inline\n",
    "\n",
    "# suppress warnings from final output\n",
    "import warnings\n",
    "warnings.simplefilter(\"ignore\")"
   ]
  },
  {
   "cell_type": "code",
   "execution_count": 2,
   "metadata": {
    "slideshow": {
     "slide_type": "skip"
    }
   },
   "outputs": [],
   "source": [
    "# load in the dataset into a pandas dataframe\n",
    "df = pd.read_csv('201902-fordgobike-tripdata.csv')"
   ]
  },
  {
   "cell_type": "code",
   "execution_count": 3,
   "metadata": {
    "slideshow": {
     "slide_type": "skip"
    }
   },
   "outputs": [],
   "source": [
    "# Create new 'age' column to compute members' ages in 2019\n",
    "df['age'] = 2019 - df['member_birth_year']"
   ]
  },
  {
   "cell_type": "code",
   "execution_count": 4,
   "metadata": {
    "slideshow": {
     "slide_type": "skip"
    }
   },
   "outputs": [],
   "source": [
    "# Filling the missing values in the age column with mean \n",
    "df['age'].fillna(df['age'].mean(), inplace = True)\n",
    "# Change the age column to int data type\n",
    "df['age'] = df['age'].astype(int)"
   ]
  },
  {
   "cell_type": "code",
   "execution_count": 5,
   "metadata": {
    "slideshow": {
     "slide_type": "skip"
    }
   },
   "outputs": [],
   "source": [
    "# Converting the start time and end time columns from string to datetime datatype\n",
    "df['start_time'] = pd.to_datetime(df['start_time'])   \n",
    "df['end_time'] = pd.to_datetime(df['end_time'])"
   ]
  },
  {
   "cell_type": "code",
   "execution_count": 6,
   "metadata": {
    "slideshow": {
     "slide_type": "skip"
    }
   },
   "outputs": [],
   "source": [
    "# Convert start time to days and hours columns \n",
    "df['start_day'] = df['start_time'].dt.day_name()\n",
    "df['start_hour'] = df['start_time'].dt.hour"
   ]
  },
  {
   "cell_type": "code",
   "execution_count": 7,
   "metadata": {
    "slideshow": {
     "slide_type": "skip"
    }
   },
   "outputs": [],
   "source": [
    "# A function to compute frequncy of each level of a categorical variable \n",
    "def categ_freq(x, order, xlabel, ylabel ,title):\n",
    "    \"\"\"A function to compute the frequency of each level of a categorical variable\n",
    "    x (string): The column name of a categorical variable\n",
    "    order (series): order of plotting levels of the categorical variable\n",
    "    xlabel (string): label for x-axis\n",
    "    ylabel (string): label for y-axis\n",
    "    title (string): The title of the plot \n",
    "    \"\"\"\n",
    "    plt.figure(figsize = [8, 5])\n",
    "    sb.countplot(data = df, x = x, order = order, color = sb.color_palette()[0])\n",
    "    plt.xlabel(xlabel, fontsize= 12)\n",
    "    plt.ylabel(ylabel, fontsize=12)\n",
    "    plt.title(title, fontsize=14)"
   ]
  },
  {
   "cell_type": "code",
   "execution_count": 8,
   "metadata": {
    "slideshow": {
     "slide_type": "skip"
    }
   },
   "outputs": [],
   "source": [
    "# A function to compute a hsitogram \n",
    "def hist(x, bins, xlabel, ylabel, title):\n",
    "    \"\"\"A function to compute the histogram for a given column name \n",
    "    x (string): The column name of a variable\n",
    "    bins (list): bin edge for each column \n",
    "    xlabel (string): label for x-axis \n",
    "    \"\"\"\n",
    "    plt.figure(figsize = [8, 5])\n",
    "    plt.hist(data = df, x = x, bins = bins)\n",
    "    plt.xlabel(xlabel, fontsize= 12)\n",
    "    plt.ylabel(ylabel, fontsize=12)\n",
    "    plt.title(title, fontsize=14)"
   ]
  },
  {
   "cell_type": "markdown",
   "metadata": {
    "slideshow": {
     "slide_type": "slide"
    }
   },
   "source": [
    "## Distribution of trips' durations\n",
    "\n",
    "> Trips' durations in this dataset take a normal distribution on a log scale with a peak between 600 and 700 seconds which is 10 minutes and 11.67 minutes with frequency of 10k. "
   ]
  },
  {
   "cell_type": "code",
   "execution_count": 9,
   "metadata": {
    "slideshow": {
     "slide_type": "subslide"
    }
   },
   "outputs": [
    {
     "data": {
      "image/png": "[encoded data removed]",
      "text/plain": [
       "<Figure size 576x360 with 1 Axes>"
      ]
     },
     "metadata": {
      "needs_background": "light"
     },
     "output_type": "display_data"
    }
   ],
   "source": [
    "# The distribution of trips' durations in a log scale\n",
    "bins = 10 ** np.arange(np.log10(df['duration_sec']).min(), np.log10(df['duration_sec']).max()+0.04, 0.04)\n",
    "hist('duration_sec', bins, 'Trip duration (sec)', 'Count', 'The frequency of trip durations')\n",
    "plt.xscale('log')\n",
    "ticks = [100, 180, 300, 500, 1000, 2000, 4000 ,7000 ,12000]\n",
    "ticks_labels = ['100', '180', '300', '500', '1k', '2k', '4k' ,'7k' ,'12k']\n",
    "plt.xticks(ticks, ticks_labels);"
   ]
  },
  {
   "cell_type": "markdown",
   "metadata": {
    "collapsed": true,
    "slideshow": {
     "slide_type": "slide"
    }
   },
   "source": [
    "## Distribution of start hour\n",
    "\n",
    "> The distribution of start hours is bimodal with one peak at 8 am and the other peak is at 5 pm (17). "
   ]
  },
  {
   "cell_type": "code",
   "execution_count": 10,
   "metadata": {
    "slideshow": {
     "slide_type": "subslide"
    }
   },
   "outputs": [
    {
     "data": {
      "image/png": "[encoded data removed]",
      "text/plain": [
       "<Figure size 576x360 with 1 Axes>"
      ]
     },
     "metadata": {
      "needs_background": "light"
     },
     "output_type": "display_data"
    }
   ],
   "source": [
    "# The distribution of the start hours\n",
    "bins = np.arange(0, 23+1, 1)\n",
    "hist('start_hour', bins, 'Trip start hours', 'Count', 'The frequency of trip start hours')\n",
    "plt.xticks(np.arange(0, 25, 2), np.arange(0, 25, 2));"
   ]
  },
  {
   "cell_type": "markdown",
   "metadata": {
    "slideshow": {
     "slide_type": "slide"
    }
   },
   "source": [
    "## Start hour Vs trip duration\n",
    "> Members that start their trips at 2 am or 3 am have the longest trip duartions on average. "
   ]
  },
  {
   "cell_type": "code",
   "execution_count": 11,
   "metadata": {
    "slideshow": {
     "slide_type": "skip"
    }
   },
   "outputs": [],
   "source": [
    "# A function to plot catgegorical levels Vs quantitative variables\n",
    "def categ_quant(x, y, xlabel, ylabel, title):\n",
    "    \"\"\"\n",
    "    This function plots the levels of the catgerical variable of 'x' Vs the average of the quantitative variable 'y' \n",
    "    x (string): column name of a categorical variable\n",
    "    y (string): column name of a quantitative variable\n",
    "    \"\"\"\n",
    "    plt.figure(figsize = [8, 5])\n",
    "    sb.barplot(data = df, x = x, y = y, color = sb.color_palette()[0], errwidth = 0);\n",
    "    plt.xlabel(xlabel, fontsize= 12)\n",
    "    plt.ylabel(ylabel, fontsize=12)\n",
    "    plt.title(title, fontsize=14)"
   ]
  },
  {
   "cell_type": "code",
   "execution_count": 12,
   "metadata": {
    "slideshow": {
     "slide_type": "subslide"
    }
   },
   "outputs": [
    {
     "data": {
      "image/png": "[encoded data removed]",
      "text/plain": [
       "<Figure size 576x360 with 1 Axes>"
      ]
     },
     "metadata": {
      "needs_background": "light"
     },
     "output_type": "display_data"
    }
   ],
   "source": [
    "# Start hour Vs trip duration \n",
    "categ_quant('start_hour', 'duration_sec', 'Trip start hour', 'Average trip duration (sec)', 'Average trip duration for each specific trip start hour')"
   ]
  },
  {
   "cell_type": "markdown",
   "metadata": {
    "slideshow": {
     "slide_type": "slide"
    }
   },
   "source": [
    "## User type Vs trip duration \n",
    "> Customers have larger trip durations than subscribers in average, customers have about 1400 seconds (23 minutes) while subscribers have about 600 seconds (10 minutes) in average. "
   ]
  },
  {
   "cell_type": "code",
   "execution_count": 13,
   "metadata": {
    "slideshow": {
     "slide_type": "subslide"
    }
   },
   "outputs": [
    {
     "data": {
      "image/png": "[encoded data removed]",
      "text/plain": [
       "<Figure size 576x360 with 1 Axes>"
      ]
     },
     "metadata": {
      "needs_background": "light"
     },
     "output_type": "display_data"
    }
   ],
   "source": [
    "# Investigating duration-user_type relationship\n",
    "categ_quant('user_type', 'duration_sec', 'User type', 'Average trip duration (sec)', 'The average trip duration for each user type')"
   ]
  }
 ],
 "metadata": {
  "celltoolbar": "Slideshow",
  "kernelspec": {
   "display_name": "Python 3",
   "language": "python",
   "name": "python3"
  },
  "language_info": {
   "codemirror_mode": {
    "name": "ipython",
    "version": 3
   },
   "file_extension": ".py",
   "mimetype": "text/x-python",
   "name": "python",
   "nbconvert_exporter": "python",
   "pygments_lexer": "ipython3",
   "version": "3.7.7"
  }
 },
 "nbformat": 4,
 "nbformat_minor": 2
}
